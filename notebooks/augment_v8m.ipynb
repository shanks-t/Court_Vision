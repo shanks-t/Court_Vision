{
 "cells": [
  {
   "cell_type": "code",
   "execution_count": 1,
   "metadata": {},
   "outputs": [],
   "source": [
    "import albumentations as A\n",
    "from albumentations.pytorch import ToTensorV2\n",
    "from ultralytics import YOLO\n",
    "import torch"
   ]
  },
  {
   "cell_type": "code",
   "execution_count": null,
   "metadata": {},
   "outputs": [],
   "source": [
    "def train_with_yolo_augmentations():\n",
    "    # Ensure MPS is available\n",
    "    if not torch.backends.mps.is_available():\n",
    "        raise SystemError(\"MPS device not found. Please ensure you have the correct version of PyTorch installed.\")\n",
    "\n",
    "    # Load a pre-trained YOLOv8 model\n",
    "    model = YOLO('yolov8m.pt')\n",
    "\n",
    "    # Ensure the model is using MPS\n",
    "    model.model.to('mps')\n",
    "\n",
    "    # Set up training configurations\n",
    "    train_config = {\n",
    "        'data': '/Users/treyshanks/data_science/Court_Vision/agg_lebron/data.yaml',\n",
    "        'epochs': 30,\n",
    "        'imgsz': 640,\n",
    "        'batch': 16,\n",
    "        'device': 'mps',\n",
    "        'project': '../results',\n",
    "        'name': 'lebron_detection_augmented',\n",
    "        'hsv_h': 0.015,\n",
    "        'hsv_s': 0.7,\n",
    "        'hsv_v': 0.4,\n",
    "        'translate': 0.1,\n",
    "        'scale': 0.5,\n",
    "        'shear': 0.2,\n",
    "        'perspective': 0.1,\n",
    "        'flipud': 0.0,\n",
    "        'fliplr': 0.5,\n",
    "        'mosaic': 1.0,\n",
    "        'mixup': 0.2,\n",
    "        'save_period': 1,\n",
    "        'verbose': True,\n",
    "        'patience': 10\n",
    "    }\n",
    "\n",
    "    # Train the model with the custom configurations\n",
    "    results = model.train(**train_config)\n",
    "\n",
    "# Execute the training script\n",
    "train_with_yolo_augmentations()"
   ]
  }
 ],
 "metadata": {
  "kernelspec": {
   "display_name": "yolo",
   "language": "python",
   "name": "python3"
  },
  "language_info": {
   "codemirror_mode": {
    "name": "ipython",
    "version": 3
   },
   "file_extension": ".py",
   "mimetype": "text/x-python",
   "name": "python",
   "nbconvert_exporter": "python",
   "pygments_lexer": "ipython3",
   "version": "3.12.3"
  }
 },
 "nbformat": 4,
 "nbformat_minor": 2
}
