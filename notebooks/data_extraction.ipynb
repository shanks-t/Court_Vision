{
 "cells": [
  {
   "cell_type": "code",
   "execution_count": 1,
   "metadata": {},
   "outputs": [],
   "source": [
    "import subprocess\n",
    "import re\n",
    "\n",
    "def get_video_duration(youtube_url):\n",
    "    \"\"\"Get the duration of the video in seconds using yt-dlp.\"\"\"\n",
    "    command = ['yt-dlp', '--get-duration', youtube_url]\n",
    "    result = subprocess.run(command, capture_output=True, text=True, check=True)\n",
    "    duration_str = result.stdout.strip()\n",
    "    \n",
    "    h, m, s = 0, 0, 0\n",
    "    if len(duration_str.split(':')) == 3:\n",
    "        h, m, s = map(int, duration_str.split(':'))\n",
    "    elif len(duration_str.split(':')) == 2:\n",
    "        m, s = map(int, duration_str.split(':'))\n",
    "    else:\n",
    "        s = int(duration_str)\n",
    "    \n",
    "    return h * 3600 + m * 60 + s\n",
    "\n",
    "def download_clips(youtube_url, player, start_time=\"00:01:00\", duration=5, num_clips=5):\n",
    "    \"\"\"Downloads specified number of clips from a YouTube video.\"\"\"\n",
    "    output_dir = '/Users/treyshanks/data_science/Court_Vision/data/inputs'\n",
    "\n",
    "    def time_to_seconds(time_str):\n",
    "        h, m, s = map(int, time_str.split(':'))\n",
    "        return h * 3600 + m * 60 + s\n",
    "\n",
    "    def seconds_to_time(seconds):\n",
    "        h = seconds // 3600\n",
    "        m = (seconds % 3600) // 60\n",
    "        s = seconds % 60\n",
    "        return f\"{h:02}:{m:02}:{s:02}\"\n",
    "\n",
    "    start_seconds = time_to_seconds(start_time)\n",
    "    total_duration = get_video_duration(youtube_url)\n",
    "    \n",
    "    interval = (total_duration - start_seconds) // num_clips\n",
    "    \n",
    "    for i in range(num_clips):\n",
    "        clip_start = start_seconds + i * interval\n",
    "        clip_end = clip_start + duration\n",
    "        clip_start_str = seconds_to_time(clip_start)\n",
    "        clip_end_str = seconds_to_time(clip_end)\n",
    "        \n",
    "        output_file = f\"{output_dir}/{player}_{i+1}.mp4\"\n",
    "        \n",
    "        command = [\n",
    "            'yt-dlp',\n",
    "            '--download-sections', f\"*{clip_start_str}-{clip_end_str}\",\n",
    "            '--merge-output-format', 'mp4',\n",
    "            youtube_url,\n",
    "            '-o', output_file\n",
    "        ]\n",
    "        \n",
    "        print(f\"Running command: {' '.join(command)}\")\n",
    "        subprocess.run(command, check=True)"
   ]
  },
  {
   "cell_type": "code",
   "execution_count": 2,
   "metadata": {},
   "outputs": [
    {
     "name": "stdout",
     "output_type": "stream",
     "text": [
      "Running command: yt-dlp --download-sections *00:01:00-00:01:05 --merge-output-format mp4 https://www.youtube.com/watch?v=kmdo2lAS554 -o /Users/treyshanks/data_science/Court_Vision/data/inputs/lebron_1.mp4\n",
      "[youtube] Extracting URL: https://www.youtube.com/watch?v=kmdo2lAS554\n",
      "[youtube] kmdo2lAS554: Downloading webpage\n",
      "[youtube] kmdo2lAS554: Downloading ios player API JSON\n",
      "[youtube] kmdo2lAS554: Downloading android player API JSON\n",
      "[youtube] kmdo2lAS554: Downloading m3u8 information\n",
      "[info] kmdo2lAS554: Downloading 1 format(s): 315+251\n",
      "[info] kmdo2lAS554: Downloading 1 time ranges: 60.0-65.0\n",
      "[download] Destination: /Users/treyshanks/data_science/Court_Vision/data/inputs/lebron_1.mp4\n"
     ]
    },
    {
     "name": "stderr",
     "output_type": "stream",
     "text": [
      "Input #0, matroska,webm, from 'https://rr3---sn-5uaeznse.googlevideo.com/videoplayback?expire=1716974386&ei=0p5WZuXVGOfNy_sP9vmY6As&ip=2601%3A483%3A4b7e%3Ad050%3A255c%3Ab651%3Aa125%3Ab287&id=o-ANwuJcPRNFtx1ibTbv3hP5L_cbFZ-jZduAQ9s-dodA5j&itag=315&aitags=133%2C134%2C135%2C136%2C160%2C242%2C243%2C244%2C247%2C278%2C298%2C299%2C302%2C303%2C308%2C315%2C394%2C395%2C396%2C397%2C398%2C399%2C400%2C401&source=youtube&requiressl=yes&xpc=EgVo2aDSNQ%3D%3D&mh=ou&mm=31%2C29&mn=sn-5uaeznse%2Csn-5ualdnze&ms=au%2Crdu&mv=m&mvi=3&pl=40&pcm2=no&gcr=us&initcwndbps=1368750&bui=AWRWj2TpZu6aBZLDwqEj6UeDm_jB0ybWuAmS_spZGrSv4QX90Dgy3fhWxfdaAsQn001toO2kPnDzq760&spc=UWF9f6fIQmDHHXUuQ-yUrJqvWBU3BL5HQ5a3bUkaK3pQYh-SCr6N0PJ27UaG&vprv=1&svpuc=1&mime=video%2Fwebm&ns=Jq9tdY7Q1KTZ_l4UWZrD1nwQ&rqh=1&gir=yes&clen=1973786883&dur=599.916&lmt=1715738487287348&mt=1716952357&fvip=3&keepalive=yes&c=WEB&sefc=1&txp=5432434&n=TXCIPYutVxLe1w&sparams=expire%2Cei%2Cip%2Cid%2Caitags%2Csource%2Crequiressl%2Cxpc%2Cpcm2%2Cgcr%2Cbui%2Cspc%2Cvprv%2Csvpuc%2Cmime%2Cns%2Crqh%2Cgir%2Cclen%2Cdur%2Clmt&sig=AJfQdSswRAIgLcz6g-5Abzv8BJVxF9BIATRSSPdMN0bvL9nLZoWs3jUCICzOCyEekT-McMqRer3zSFGSAf6amloHweQ8U5ljVXZx&lsparams=mh%2Cmm%2Cmn%2Cms%2Cmv%2Cmvi%2Cpl%2Cinitcwndbps&lsig=AHWaYeowRQIhAMFIW-T84PrnT98CRGLLqznGSfqX6MiWixk-kwWZvPvsAiACjkHD6-m6yi17vZKWDm2O43PTFtof1uB-hezebtOXqg%3D%3D':\n",
      "  Metadata:\n",
      "    encoder         : google/video-file\n",
      "  Duration: 00:09:59.92, start: 0.000000, bitrate: 26320 kb/s\n",
      "  Stream #0:0(eng): Video: vp9 (Profile 0), yuv420p(tv, bt709), 3840x2160, SAR 1:1 DAR 16:9, 59.94 fps, 59.94 tbr, 1k tbn (default)\n",
      "Input #1, matroska,webm, from 'https://rr3---sn-5uaeznse.googlevideo.com/videoplayback?expire=1716974386&ei=0p5WZuXVGOfNy_sP9vmY6As&ip=2601%3A483%3A4b7e%3Ad050%3A255c%3Ab651%3Aa125%3Ab287&id=o-ANwuJcPRNFtx1ibTbv3hP5L_cbFZ-jZduAQ9s-dodA5j&itag=251&source=youtube&requiressl=yes&xpc=EgVo2aDSNQ%3D%3D&mh=ou&mm=31%2C29&mn=sn-5uaeznse%2Csn-5ualdnze&ms=au%2Crdu&mv=m&mvi=3&pl=40&pcm2=no&gcr=us&initcwndbps=1368750&bui=AWRWj2TpZu6aBZLDwqEj6UeDm_jB0ybWuAmS_spZGrSv4QX90Dgy3fhWxfdaAsQn001toO2kPnDzq760&spc=UWF9f6fIQmDHHXUuQ-yUrJqvWBU3BL5HQ5a3bUkaK3pQYh-SCr6N0PJ27UaG&vprv=1&svpuc=1&mime=audio%2Fwebm&ns=Jq9tdY7Q1KTZ_l4UWZrD1nwQ&rqh=1&gir=yes&clen=9584935&dur=599.961&lmt=1715726501686253&mt=1716952357&fvip=3&keepalive=yes&c=WEB&sefc=1&txp=5432434&n=TXCIPYutVxLe1w&sparams=expire%2Cei%2Cip%2Cid%2Citag%2Csource%2Crequiressl%2Cxpc%2Cpcm2%2Cgcr%2Cbui%2Cspc%2Cvprv%2Csvpuc%2Cmime%2Cns%2Crqh%2Cgir%2Cclen%2Cdur%2Clmt&sig=AJfQdSswRAIgQY5jVsQCayhxOWnW3Yiilxmm_mhbU07is0BdfT9go20CIDsRVmC8kP5vaO5m3-L3ULDMoVS3tTwbDs9GLIqpH5tp&lsparams=mh%2Cmm%2Cmn%2Cms%2Cmv%2Cmvi%2Cpl%2Cinitcwndbps&lsig=AHWaYeowRQIhAMFIW-T84PrnT98CRGLLqznGSfqX6MiWixk-kwWZvPvsAiACjkHD6-m6yi17vZKWDm2O43PTFtof1uB-hezebtOXqg%3D%3D':\n",
      "  Metadata:\n",
      "    encoder         : google/video-file\n",
      "  Duration: 00:09:59.96, start: -0.007000, bitrate: 127 kb/s\n",
      "  Stream #1:0(eng): Audio: opus, 48000 Hz, stereo, fltp (default)\n",
      "Stream mapping:\n",
      "  Stream #0:0 -> #0:0 (copy)\n",
      "  Stream #1:0 -> #0:1 (copy)\n",
      "[mp4 @ 0x13a90f2e0] track 1: codec frame size is not set\n",
      "Output #0, mp4, to 'file:/Users/treyshanks/data_science/Court_Vision/data/inputs/lebron_1.mp4.part':\n",
      "  Metadata:\n",
      "    encoder         : Lavf61.1.100\n",
      "  Stream #0:0(eng): Video: vp9 (Profile 0) (vp09 / 0x39307076), yuv420p(tv, bt709), 3840x2160 [SAR 1:1 DAR 16:9], q=2-31, 59.94 fps, 59.94 tbr, 16k tbn (default)\n",
      "  Stream #0:1(eng): Audio: opus (Opus / 0x7375704F), 48000 Hz, stereo, fltp (default)\n",
      "Press [q] to stop, [?] for help\n",
      "[out#0/mp4 @ 0x13a90f010] video:16799KiB audio:218KiB subtitle:0KiB other streams:0KiB global headers:0KiB muxing overhead: 0.059617%\n",
      "size=   17028KiB time=00:00:05.00 bitrate=27893.0kbits/s speed=1.71x    \n"
     ]
    },
    {
     "name": "stdout",
     "output_type": "stream",
     "text": [
      "[download] 100% of   16.63MiB in 00:00:03 at 4.60MiB/s\n",
      "Running command: yt-dlp --download-sections *00:02:48-00:02:53 --merge-output-format mp4 https://www.youtube.com/watch?v=kmdo2lAS554 -o /Users/treyshanks/data_science/Court_Vision/data/inputs/lebron_2.mp4\n",
      "[youtube] Extracting URL: https://www.youtube.com/watch?v=kmdo2lAS554\n",
      "[youtube] kmdo2lAS554: Downloading webpage\n",
      "[youtube] kmdo2lAS554: Downloading ios player API JSON\n",
      "[youtube] kmdo2lAS554: Downloading android player API JSON\n",
      "[youtube] kmdo2lAS554: Downloading m3u8 information\n",
      "[info] kmdo2lAS554: Downloading 1 format(s): 315+251\n",
      "[info] kmdo2lAS554: Downloading 1 time ranges: 168.0-173.0\n",
      "[download] Destination: /Users/treyshanks/data_science/Court_Vision/data/inputs/lebron_2.mp4\n"
     ]
    },
    {
     "name": "stderr",
     "output_type": "stream",
     "text": [
      "Input #0, matroska,webm, from 'https://rr3---sn-5ualdnze.googlevideo.com/videoplayback?expire=1716974394&ei=2p5WZqKzE5fyzLUPhu2wyAk&ip=2601%3A483%3A4b7e%3Ad050%3A255c%3Ab651%3Aa125%3Ab287&id=o-APVRfL-fS7K0mbmugbIzLDWk8i_LAFS9Fsv_TZ6QI-Yd&itag=315&source=youtube&requiressl=yes&xpc=EgVo2aDSNQ%3D%3D&mh=ou&mm=31%2C29&mn=sn-5ualdnze%2Csn-5uaeznse&ms=au%2Crdu&mv=m&mvi=3&pl=40&gcr=us&initcwndbps=1402500&vprv=1&svpuc=1&mime=video%2Fwebm&rqh=1&gir=yes&clen=1973786883&dur=599.916&lmt=1715738487287348&mt=1716952357&fvip=3&keepalive=yes&c=IOS&txp=5432434&sparams=expire%2Cei%2Cip%2Cid%2Citag%2Csource%2Crequiressl%2Cxpc%2Cgcr%2Cvprv%2Csvpuc%2Cmime%2Crqh%2Cgir%2Cclen%2Cdur%2Clmt&sig=AJfQdSswRQIgcnGhuHa0pqVKBFo8ChdbbA6rmTq1HQL98blPHdq594UCIQDwcG4IrnMXG4uuiRxLpN8dhGBVz6eqp3Qi2IXRnXYYOw%3D%3D&lsparams=mh%2Cmm%2Cmn%2Cms%2Cmv%2Cmvi%2Cpl%2Cinitcwndbps&lsig=AHWaYeowRQIgA1pl3KsDY5ds6r9nAT3PCjo0e5J4P3RYFZ-T228MFtMCIQCbTBUMh7NINKy_wSvt4KEcBfnejFIKNnJ5CRsOHauL9Q%3D%3D':\n",
      "  Metadata:\n",
      "    encoder         : google/video-file\n",
      "  Duration: 00:09:59.92, start: 0.000000, bitrate: 26320 kb/s\n",
      "  Stream #0:0(eng): Video: vp9 (Profile 0), yuv420p(tv, bt709), 3840x2160, SAR 1:1 DAR 16:9, 59.94 fps, 59.94 tbr, 1k tbn (default)\n",
      "Input #1, matroska,webm, from 'https://rr3---sn-5uaeznse.googlevideo.com/videoplayback?expire=1716974393&ei=2Z5WZqmCKNrJ0_wP6_CW6AU&ip=2601%3A483%3A4b7e%3Ad050%3A255c%3Ab651%3Aa125%3Ab287&id=o-AAIm-n48B1wBRbcxOhXgpJek8VjlvW5esh2oDtLIdZHO&itag=251&source=youtube&requiressl=yes&xpc=EgVo2aDSNQ%3D%3D&mh=ou&mm=31%2C29&mn=sn-5uaeznse%2Csn-5ualdnze&ms=au%2Crdu&mv=m&mvi=3&pl=40&gcr=us&initcwndbps=1371250&bui=AWRWj2TkJraDD_JCo5jq_RsQQK64i7dDQCuH3F9q8gozbtskoB496h21d0M-FBQzQ-KSclpqRiyf0DwT&spc=UWF9f5Eq_YdImmrSNhUQ-ktV6TZOhIjDWvgHDV9Edm63Zxvt7P7tsz6AgZbT&vprv=1&svpuc=1&mime=audio%2Fwebm&ns=zyIi_rwPb-cWGhRLrD0CJ1MQ&rqh=1&gir=yes&clen=9584935&dur=599.961&lmt=1715726501686253&mt=1716952357&fvip=3&keepalive=yes&c=WEB&sefc=1&txp=5432434&n=O1RFAGMZW0Exmg&sparams=expire%2Cei%2Cip%2Cid%2Citag%2Csource%2Crequiressl%2Cxpc%2Cgcr%2Cbui%2Cspc%2Cvprv%2Csvpuc%2Cmime%2Cns%2Crqh%2Cgir%2Cclen%2Cdur%2Clmt&sig=AJfQdSswRQIhALFkDDGjOmZ9yQj2GPKXQTzLsa6b5c7o7YqKRGkp0puwAiAQMpNg3lMA1fLDHuLOibDfGHcsld38WKwicgmTotrplQ%3D%3D&lsparams=mh%2Cmm%2Cmn%2Cms%2Cmv%2Cmvi%2Cpl%2Cinitcwndbps&lsig=AHWaYeowRgIhAP4D7mW1J9TFh90lmPVvK0chJDQtLZBZyK8_2FMx1uSQAiEA7cIxCarZuK6Wvr5PbjK21Mp25bRuMPhWQl8sirmbYOo%3D':\n",
      "  Metadata:\n",
      "    encoder         : google/video-file\n",
      "  Duration: 00:09:59.96, start: -0.007000, bitrate: 127 kb/s\n",
      "  Stream #1:0(eng): Audio: opus, 48000 Hz, stereo, fltp (default)\n",
      "Stream mapping:\n",
      "  Stream #0:0 -> #0:0 (copy)\n",
      "  Stream #1:0 -> #0:1 (copy)\n",
      "[mp4 @ 0x157007610] track 1: codec frame size is not set\n",
      "Output #0, mp4, to 'file:/Users/treyshanks/data_science/Court_Vision/data/inputs/lebron_2.mp4.part':\n",
      "  Metadata:\n",
      "    encoder         : Lavf61.1.100\n",
      "  Stream #0:0(eng): Video: vp9 (Profile 0) (vp09 / 0x39307076), yuv420p(tv, bt709), 3840x2160 [SAR 1:1 DAR 16:9], q=2-31, 59.94 fps, 59.94 tbr, 16k tbn (default)\n",
      "  Stream #0:1(eng): Audio: opus (Opus / 0x7375704F), 48000 Hz, stereo, fltp (default)\n",
      "Press [q] to stop, [?] for help\n",
      "[out#0/mp4 @ 0x157007550] video:18259KiB audio:178KiB subtitle:0KiB other streams:0KiB global headers:0KiB muxing overhead: 0.055282%\n",
      "size=   18447KiB time=00:00:05.00 bitrate=30217.9kbits/s speed=1.34x    \n"
     ]
    },
    {
     "name": "stdout",
     "output_type": "stream",
     "text": [
      "[download] 100% of   18.01MiB in 00:00:04 at 4.11MiB/s\n",
      "Running command: yt-dlp --download-sections *00:04:36-00:04:41 --merge-output-format mp4 https://www.youtube.com/watch?v=kmdo2lAS554 -o /Users/treyshanks/data_science/Court_Vision/data/inputs/lebron_3.mp4\n",
      "[youtube] Extracting URL: https://www.youtube.com/watch?v=kmdo2lAS554\n",
      "[youtube] kmdo2lAS554: Downloading webpage\n",
      "[youtube] kmdo2lAS554: Downloading ios player API JSON\n",
      "[youtube] kmdo2lAS554: Downloading android player API JSON\n",
      "[youtube] kmdo2lAS554: Downloading player b9ad8b0a\n",
      "[youtube] kmdo2lAS554: Downloading m3u8 information\n",
      "[info] kmdo2lAS554: Downloading 1 format(s): 315+251\n",
      "[info] kmdo2lAS554: Downloading 1 time ranges: 276.0-281.0\n",
      "[download] Destination: /Users/treyshanks/data_science/Court_Vision/data/inputs/lebron_3.mp4\n"
     ]
    },
    {
     "name": "stderr",
     "output_type": "stream",
     "text": [
      "Input #0, matroska,webm, from 'https://rr3---sn-5ualdnze.googlevideo.com/videoplayback?expire=1716974399&ei=355WZqTDOM-i0_wPsuSLqA0&ip=2601%3A483%3A4b7e%3Ad050%3A255c%3Ab651%3Aa125%3Ab287&id=o-AFUxllGSptokG8dcg0c5pKF5k91AdlY2_j0Ti-Lp8OcY&itag=315&aitags=133%2C134%2C135%2C136%2C160%2C242%2C243%2C244%2C247%2C278%2C298%2C299%2C302%2C303%2C308%2C315%2C394%2C395%2C396%2C397%2C398%2C399%2C400%2C401&source=youtube&requiressl=yes&xpc=EgVo2aDSNQ%3D%3D&mh=ou&mm=31%2C26&mn=sn-5ualdnze%2Csn-p5qddn7r&ms=au%2Conr&mv=m&mvi=3&pl=40&gcr=us&initcwndbps=1368750&bui=AWRWj2RAWxNBHy_wTLCf_QdhbbEJdXwq9qv-mDjKK35RMUSDV_98FQaV9QopBEy5UprOJGnkJ5OK9I-h&spc=UWF9f-zHwTNt7e75D_RTXpM27HjAlTX3gueFTz4I2TU2ZRpp1cK8-lqQg_si&vprv=1&svpuc=1&mime=video%2Fwebm&ns=igWnngWE8EWFdg_G2ODqjxYQ&rqh=1&gir=yes&clen=1973786883&dur=599.916&lmt=1715738487287348&mt=1716952357&fvip=5&keepalive=yes&c=WEB&sefc=1&txp=5432434&n=IKVpZEJg-DhefA&sparams=expire%2Cei%2Cip%2Cid%2Caitags%2Csource%2Crequiressl%2Cxpc%2Cgcr%2Cbui%2Cspc%2Cvprv%2Csvpuc%2Cmime%2Cns%2Crqh%2Cgir%2Cclen%2Cdur%2Clmt&sig=AJfQdSswRQIhALQEKqIrmMMAUDqKVusDdVedkX16qoJHm-aDX3IPbBaHAiAVisOFy6vdRHyA6lbU-8ztb5CDzCivyk43vHiiOZ8UnA%3D%3D&lsparams=mh%2Cmm%2Cmn%2Cms%2Cmv%2Cmvi%2Cpl%2Cinitcwndbps&lsig=AHWaYeowRgIhAJAgNy83Y68E6u1hEoOV00vhfsiihkNhWIlp0OWvZ5I4AiEAm1Z6JDG-bOl0p5QFkwBSnDb8Oc00FCPOO_AflyWecbE%3D':\n",
      "  Metadata:\n",
      "    encoder         : google/video-file\n",
      "  Duration: 00:09:59.92, start: 0.000000, bitrate: 26320 kb/s\n",
      "  Stream #0:0(eng): Video: vp9 (Profile 0), yuv420p(tv, bt709), 3840x2160, SAR 1:1 DAR 16:9, 59.94 fps, 59.94 tbr, 1k tbn (default)\n",
      "Input #1, matroska,webm, from 'https://rr3---sn-5ualdnze.googlevideo.com/videoplayback?expire=1716974399&ei=355WZqTDOM-i0_wPsuSLqA0&ip=2601%3A483%3A4b7e%3Ad050%3A255c%3Ab651%3Aa125%3Ab287&id=o-AFUxllGSptokG8dcg0c5pKF5k91AdlY2_j0Ti-Lp8OcY&itag=251&source=youtube&requiressl=yes&xpc=EgVo2aDSNQ%3D%3D&mh=ou&mm=31%2C26&mn=sn-5ualdnze%2Csn-p5qddn7r&ms=au%2Conr&mv=m&mvi=3&pl=40&gcr=us&initcwndbps=1368750&bui=AWRWj2RAWxNBHy_wTLCf_QdhbbEJdXwq9qv-mDjKK35RMUSDV_98FQaV9QopBEy5UprOJGnkJ5OK9I-h&spc=UWF9f-zHwTNt7e75D_RTXpM27HjAlTX3gueFTz4I2TU2ZRpp1cK8-lqQg_si&vprv=1&svpuc=1&mime=audio%2Fwebm&ns=igWnngWE8EWFdg_G2ODqjxYQ&rqh=1&gir=yes&clen=9584935&dur=599.961&lmt=1715726501686253&mt=1716952357&fvip=5&keepalive=yes&c=WEB&sefc=1&txp=5432434&n=IKVpZEJg-DhefA&sparams=expire%2Cei%2Cip%2Cid%2Citag%2Csource%2Crequiressl%2Cxpc%2Cgcr%2Cbui%2Cspc%2Cvprv%2Csvpuc%2Cmime%2Cns%2Crqh%2Cgir%2Cclen%2Cdur%2Clmt&sig=AJfQdSswRgIhAMSE2AgJNROFW2BgNNrGhkAAhwXhR8CyvsJsGRy38JayAiEA2huav0X_EDs9aG-bzw_ITHAzaA90s-X_oMvBZK5FoDc%3D&lsparams=mh%2Cmm%2Cmn%2Cms%2Cmv%2Cmvi%2Cpl%2Cinitcwndbps&lsig=AHWaYeowRgIhAJAgNy83Y68E6u1hEoOV00vhfsiihkNhWIlp0OWvZ5I4AiEAm1Z6JDG-bOl0p5QFkwBSnDb8Oc00FCPOO_AflyWecbE%3D':\n",
      "  Metadata:\n",
      "    encoder         : google/video-file\n",
      "  Duration: 00:09:59.96, start: -0.007000, bitrate: 127 kb/s\n",
      "  Stream #1:0(eng): Audio: opus, 48000 Hz, stereo, fltp (default)\n",
      "Stream mapping:\n",
      "  Stream #0:0 -> #0:0 (copy)\n",
      "  Stream #1:0 -> #0:1 (copy)\n",
      "[mp4 @ 0x11180f5b0] track 1: codec frame size is not set\n",
      "Output #0, mp4, to 'file:/Users/treyshanks/data_science/Court_Vision/data/inputs/lebron_3.mp4.part':\n",
      "  Metadata:\n",
      "    encoder         : Lavf61.1.100\n",
      "  Stream #0:0(eng): Video: vp9 (Profile 0) (vp09 / 0x39307076), yuv420p(tv, bt709), 3840x2160 [SAR 1:1 DAR 16:9], q=2-31, 59.94 fps, 59.94 tbr, 16k tbn (default)\n",
      "  Stream #0:1(eng): Audio: opus (Opus / 0x7375704F), 48000 Hz, stereo, fltp (default)\n",
      "Press [q] to stop, [?] for help\n",
      "[out#0/mp4 @ 0x11180eed0] video:25929KiB audio:165KiB subtitle:0KiB other streams:0KiB global headers:0KiB muxing overhead: 0.048610%\n",
      "size=   26107KiB time=00:00:05.00 bitrate=42765.5kbits/s speed=0.729x    \n"
     ]
    },
    {
     "name": "stdout",
     "output_type": "stream",
     "text": [
      "[download] 100% of   25.50MiB in 00:00:07 at 3.33MiB/s\n",
      "Running command: yt-dlp --download-sections *00:06:24-00:06:29 --merge-output-format mp4 https://www.youtube.com/watch?v=kmdo2lAS554 -o /Users/treyshanks/data_science/Court_Vision/data/inputs/lebron_4.mp4\n",
      "[youtube] Extracting URL: https://www.youtube.com/watch?v=kmdo2lAS554\n",
      "[youtube] kmdo2lAS554: Downloading webpage\n",
      "[youtube] kmdo2lAS554: Downloading ios player API JSON\n",
      "[youtube] kmdo2lAS554: Downloading android player API JSON\n",
      "[youtube] kmdo2lAS554: Downloading m3u8 information\n",
      "[info] kmdo2lAS554: Downloading 1 format(s): 315+251\n",
      "[info] kmdo2lAS554: Downloading 1 time ranges: 384.0-389.0\n",
      "[download] Destination: /Users/treyshanks/data_science/Court_Vision/data/inputs/lebron_4.mp4\n"
     ]
    },
    {
     "name": "stderr",
     "output_type": "stream",
     "text": [
      "Input #0, matroska,webm, from 'https://rr3---sn-5uaeznse.googlevideo.com/videoplayback?expire=1716974409&ei=6Z5WZpjBN8O80_wPjNKl0AI&ip=2601%3A483%3A4b7e%3Ad050%3A255c%3Ab651%3Aa125%3Ab287&id=o-ADyQl5RuUDvBiaGtXIZor37TFXNPvtLmaGlDM-6Y6B9v&itag=315&aitags=133%2C134%2C135%2C136%2C160%2C242%2C243%2C244%2C247%2C278%2C298%2C299%2C302%2C303%2C308%2C315%2C394%2C395%2C396%2C397%2C398%2C399%2C400%2C401&source=youtube&requiressl=yes&xpc=EgVo2aDSNQ%3D%3D&mh=ou&mm=31%2C29&mn=sn-5uaeznse%2Csn-5ualdnze&ms=au%2Crdu&mv=m&mvi=3&pl=40&gcr=us&initcwndbps=1402500&bui=AWRWj2SLUcLJv7Pi0tZ-zgFYarUGaeezzupqJeFFbGwWno7tBZVulcqwDWVMD84-hE-2m4APvFpdQoUI&spc=UWF9fw_QwX_kVjWDh2idN1vxq3QxzIm5VQyvBB05eBcwzKfbNaCXDve8jMt1&vprv=1&svpuc=1&mime=video%2Fwebm&ns=hwXX0HClDzKWwLCPYn2UM58Q&rqh=1&gir=yes&clen=1973786883&dur=599.916&lmt=1715738487287348&mt=1716952357&fvip=3&keepalive=yes&c=WEB&sefc=1&txp=5432434&n=jRYsnFLoFYPD-A&sparams=expire%2Cei%2Cip%2Cid%2Caitags%2Csource%2Crequiressl%2Cxpc%2Cgcr%2Cbui%2Cspc%2Cvprv%2Csvpuc%2Cmime%2Cns%2Crqh%2Cgir%2Cclen%2Cdur%2Clmt&sig=AJfQdSswRQIhAOIgqriJ0QQbBP69rdpfJs7YE-J1zCsFKhWLkFqatBknAiABm1oYsErJebU2agw8-LEJYheNiUJ-uhDvH4YK5YIdLg%3D%3D&lsparams=mh%2Cmm%2Cmn%2Cms%2Cmv%2Cmvi%2Cpl%2Cinitcwndbps&lsig=AHWaYeowRQIgXMA4ovdiJOTpkCrd4YvMYxV67zzylti9i_NiGUGcaqMCIQD4OrMZZfFXR4AAIg6IQGGNhZ4JJ076KrE3FuTWNDy1IA%3D%3D':\n",
      "  Metadata:\n",
      "    encoder         : google/video-file\n",
      "  Duration: 00:09:59.92, start: 0.000000, bitrate: 26320 kb/s\n",
      "  Stream #0:0(eng): Video: vp9 (Profile 0), yuv420p(tv, bt709), 3840x2160, SAR 1:1 DAR 16:9, 59.94 fps, 59.94 tbr, 1k tbn (default)\n",
      "Input #1, matroska,webm, from 'https://rr3---sn-5uaeznse.googlevideo.com/videoplayback?expire=1716974409&ei=6Z5WZpjBN8O80_wPjNKl0AI&ip=2601%3A483%3A4b7e%3Ad050%3A255c%3Ab651%3Aa125%3Ab287&id=o-ADyQl5RuUDvBiaGtXIZor37TFXNPvtLmaGlDM-6Y6B9v&itag=251&source=youtube&requiressl=yes&xpc=EgVo2aDSNQ%3D%3D&mh=ou&mm=31%2C29&mn=sn-5uaeznse%2Csn-5ualdnze&ms=au%2Crdu&mv=m&mvi=3&pl=40&gcr=us&initcwndbps=1402500&bui=AWRWj2SLUcLJv7Pi0tZ-zgFYarUGaeezzupqJeFFbGwWno7tBZVulcqwDWVMD84-hE-2m4APvFpdQoUI&spc=UWF9fw_QwX_kVjWDh2idN1vxq3QxzIm5VQyvBB05eBcwzKfbNaCXDve8jMt1&vprv=1&svpuc=1&mime=audio%2Fwebm&ns=hwXX0HClDzKWwLCPYn2UM58Q&rqh=1&gir=yes&clen=9584935&dur=599.961&lmt=1715726501686253&mt=1716952357&fvip=3&keepalive=yes&c=WEB&sefc=1&txp=5432434&n=jRYsnFLoFYPD-A&sparams=expire%2Cei%2Cip%2Cid%2Citag%2Csource%2Crequiressl%2Cxpc%2Cgcr%2Cbui%2Cspc%2Cvprv%2Csvpuc%2Cmime%2Cns%2Crqh%2Cgir%2Cclen%2Cdur%2Clmt&sig=AJfQdSswRQIhAJDna3uTno5OkpRfPYMus2Mu4Jmqzu_el_4YvJITqhx_AiBzLLqbAk1rdePx4IU2STxuzFkgbLuKwgLRsfFM-3GxTA%3D%3D&lsparams=mh%2Cmm%2Cmn%2Cms%2Cmv%2Cmvi%2Cpl%2Cinitcwndbps&lsig=AHWaYeowRQIgXMA4ovdiJOTpkCrd4YvMYxV67zzylti9i_NiGUGcaqMCIQD4OrMZZfFXR4AAIg6IQGGNhZ4JJ076KrE3FuTWNDy1IA%3D%3D':\n",
      "  Metadata:\n",
      "    encoder         : google/video-file\n",
      "  Duration: 00:09:59.96, start: -0.007000, bitrate: 127 kb/s\n",
      "  Stream #1:0(eng): Audio: opus, 48000 Hz, stereo, fltp (default)\n",
      "Stream mapping:\n",
      "  Stream #0:0 -> #0:0 (copy)\n",
      "  Stream #1:0 -> #0:1 (copy)\n",
      "[mp4 @ 0x1420244b0] track 1: codec frame size is not set\n",
      "Output #0, mp4, to 'file:/Users/treyshanks/data_science/Court_Vision/data/inputs/lebron_4.mp4.part':\n",
      "  Metadata:\n",
      "    encoder         : Lavf61.1.100\n",
      "  Stream #0:0(eng): Video: vp9 (Profile 0) (vp09 / 0x39307076), yuv420p(tv, bt709), 3840x2160 [SAR 1:1 DAR 16:9], q=2-31, 59.94 fps, 59.94 tbr, 16k tbn (default)\n",
      "  Stream #0:1(eng): Audio: opus (Opus / 0x7375704F), 48000 Hz, stereo, fltp (default)\n",
      "Press [q] to stop, [?] for help\n",
      "[out#0/mp4 @ 0x1420249e0] video:24247KiB audio:144KiB subtitle:0KiB other streams:0KiB global headers:0KiB muxing overhead: 0.049075%\n",
      "size=   24403KiB time=00:00:05.00 bitrate=39973.1kbits/s speed=0.775x    \n"
     ]
    },
    {
     "name": "stdout",
     "output_type": "stream",
     "text": [
      "[download] 100% of   23.83MiB in 00:00:08 at 2.91MiB/s\n",
      "Running command: yt-dlp --download-sections *00:08:12-00:08:17 --merge-output-format mp4 https://www.youtube.com/watch?v=kmdo2lAS554 -o /Users/treyshanks/data_science/Court_Vision/data/inputs/lebron_5.mp4\n",
      "[youtube] Extracting URL: https://www.youtube.com/watch?v=kmdo2lAS554\n",
      "[youtube] kmdo2lAS554: Downloading webpage\n",
      "[youtube] kmdo2lAS554: Downloading ios player API JSON\n",
      "[youtube] kmdo2lAS554: Downloading android player API JSON\n",
      "[youtube] kmdo2lAS554: Downloading m3u8 information\n",
      "[info] kmdo2lAS554: Downloading 1 format(s): 315+251\n",
      "[info] kmdo2lAS554: Downloading 1 time ranges: 492.0-497.0\n",
      "[download] Destination: /Users/treyshanks/data_science/Court_Vision/data/inputs/lebron_5.mp4\n"
     ]
    },
    {
     "name": "stderr",
     "output_type": "stream",
     "text": [
      "Input #0, matroska,webm, from 'https://rr3---sn-5ualdnze.googlevideo.com/videoplayback?expire=1716974423&ei=955WZtehEs3B0_wP3tKlkAM&ip=2601%3A483%3A4b7e%3Ad050%3A255c%3Ab651%3Aa125%3Ab287&id=o-AK-9vA8I6ZF9_BG2ZIjlIrk_auSOxmnE-B2RpXhntQO1&itag=315&source=youtube&requiressl=yes&xpc=EgVo2aDSNQ%3D%3D&mh=ou&mm=31%2C26&mn=sn-5ualdnze%2Csn-p5qddn7r&ms=au%2Conr&mv=m&mvi=3&pl=40&gcr=us&initcwndbps=1402500&vprv=1&svpuc=1&mime=video%2Fwebm&rqh=1&gir=yes&clen=1973786883&dur=599.916&lmt=1715738487287348&mt=1716952357&fvip=5&keepalive=yes&c=IOS&txp=5432434&sparams=expire%2Cei%2Cip%2Cid%2Citag%2Csource%2Crequiressl%2Cxpc%2Cgcr%2Cvprv%2Csvpuc%2Cmime%2Crqh%2Cgir%2Cclen%2Cdur%2Clmt&sig=AJfQdSswRQIhALYJHdT5CRj3YAUXpjGJVt5TzeQGBw3hXSTbwbBiISK5AiBDKA7G6QyVdYPpYK1EH7RNoZ4OCcjqUhzaVhXsuj63Vw%3D%3D&lsparams=mh%2Cmm%2Cmn%2Cms%2Cmv%2Cmvi%2Cpl%2Cinitcwndbps&lsig=AHWaYeowRQIgfBA-cYh2uwGmKWgc7f_323zXFLiHIFjSLfMr26DF3Z4CIQClqyqTVGhMfuBwFUcNXujuAdH43owDg4PT4Guk633ytw%3D%3D':\n",
      "  Metadata:\n",
      "    encoder         : google/video-file\n",
      "  Duration: 00:09:59.92, start: 0.000000, bitrate: 26320 kb/s\n",
      "  Stream #0:0(eng): Video: vp9 (Profile 0), yuv420p(tv, bt709), 3840x2160, SAR 1:1 DAR 16:9, 59.94 fps, 59.94 tbr, 1k tbn (default)\n",
      "Input #1, matroska,webm, from 'https://rr3---sn-5uaeznse.googlevideo.com/videoplayback?expire=1716974422&ei=9p5WZsHVKP6Xy_sP7tGJgAk&ip=2601%3A483%3A4b7e%3Ad050%3A255c%3Ab651%3Aa125%3Ab287&id=o-AGiRMAAjXfwli1krW_5iGqAkM-mOJFIWZucK-H7vdEUa&itag=251&source=youtube&requiressl=yes&xpc=EgVo2aDSNQ%3D%3D&mh=ou&mm=31%2C29&mn=sn-5uaeznse%2Csn-5ualdnze&ms=au%2Crdu&mv=m&mvi=3&pl=40&gcr=us&initcwndbps=1371250&bui=AWRWj2R1R7ltd4xzmwX7Z43s_XacPpl_gzO2PGfZLo0RqaJLZ-XwDDQYPVQAD1Agw-SDWvYL7GHKPMpS&spc=UWF9fyc_xPdOA-e4k-PJdAteqtfb_5paKVY9zkYBk9JEHlf3K1EBNeQJW3K_&vprv=1&svpuc=1&mime=audio%2Fwebm&ns=9IBma8D1-ouauPHA-Af4UFgQ&rqh=1&gir=yes&clen=9584935&dur=599.961&lmt=1715726501686253&mt=1716952357&fvip=3&keepalive=yes&c=WEB&sefc=1&txp=5432434&n=if7bZn2rD61NyA&sparams=expire%2Cei%2Cip%2Cid%2Citag%2Csource%2Crequiressl%2Cxpc%2Cgcr%2Cbui%2Cspc%2Cvprv%2Csvpuc%2Cmime%2Cns%2Crqh%2Cgir%2Cclen%2Cdur%2Clmt&sig=AJfQdSswRgIhAOFa9LDg9q30tF0SRZk7nHmKQnS5OyPfdvwe1aecUKfnAiEA_HKyhjmbS4BTSVubOoDKi6XzjSba9NGHfKvVxD-N9Z8%3D&lsparams=mh%2Cmm%2Cmn%2Cms%2Cmv%2Cmvi%2Cpl%2Cinitcwndbps&lsig=AHWaYeowRQIgU-6p4IBek0an7xp_lsPxnv1m5S4PeCWgfVsu3V8xV-cCIQCzfXRPaN8pHVySrfTPKKih-9ZLSuE-809JKflFjfwEmA%3D%3D':\n",
      "  Metadata:\n",
      "    encoder         : google/video-file\n",
      "  Duration: 00:09:59.96, start: -0.007000, bitrate: 127 kb/s\n",
      "  Stream #1:0(eng): Audio: opus, 48000 Hz, stereo, fltp (default)\n",
      "Stream mapping:\n",
      "  Stream #0:0 -> #0:0 (copy)\n",
      "  Stream #1:0 -> #0:1 (copy)\n",
      "[mp4 @ 0x10d304490] track 1: codec frame size is not set\n",
      "Output #0, mp4, to 'file:/Users/treyshanks/data_science/Court_Vision/data/inputs/lebron_5.mp4.part':\n",
      "  Metadata:\n",
      "    encoder         : Lavf61.1.100\n",
      "  Stream #0:0(eng): Video: vp9 (Profile 0) (vp09 / 0x39307076), yuv420p(tv, bt709), 3840x2160 [SAR 1:1 DAR 16:9], q=2-31, 59.94 fps, 59.94 tbr, 16k tbn (default)\n",
      "  Stream #0:1(eng): Audio: opus (Opus / 0x7375704F), 48000 Hz, stereo, fltp (default)\n",
      "Press [q] to stop, [?] for help\n",
      "size=   14592KiB time=00:00:04.01 bitrate=29795.1kbits/s speed=1.33x      \r"
     ]
    },
    {
     "name": "stdout",
     "output_type": "stream",
     "text": [
      "[download] 100% of   17.37MiB in 00:00:04 at 3.98MiB/s\n"
     ]
    },
    {
     "name": "stderr",
     "output_type": "stream",
     "text": [
      "[out#0/mp4 @ 0x10d3043d0] video:17669KiB audio:107KiB subtitle:0KiB other streams:0KiB global headers:0KiB muxing overhead: 0.051141%\n",
      "size=   17785KiB time=00:00:05.00 bitrate=29133.4kbits/s speed=1.41x    \n"
     ]
    }
   ],
   "source": [
    "youtube_url = 'https://www.youtube.com/watch?v=kmdo2lAS554'\n",
    "\n",
    "download_clips(youtube_url, \"lebron\")"
   ]
  }
 ],
 "metadata": {
  "kernelspec": {
   "display_name": "yolo",
   "language": "python",
   "name": "python3"
  },
  "language_info": {
   "codemirror_mode": {
    "name": "ipython",
    "version": 3
   },
   "file_extension": ".py",
   "mimetype": "text/x-python",
   "name": "python",
   "nbconvert_exporter": "python",
   "pygments_lexer": "ipython3",
   "version": "3.12.3"
  }
 },
 "nbformat": 4,
 "nbformat_minor": 2
}
