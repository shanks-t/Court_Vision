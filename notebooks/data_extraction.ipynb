{
 "cells": [
  {
   "cell_type": "code",
   "execution_count": 4,
   "metadata": {},
   "outputs": [],
   "source": [
    "import subprocess\n",
    "import re\n",
    "\n",
    "def get_video_duration(youtube_url):\n",
    "    \"\"\"Get the duration of the video in seconds using yt-dlp.\"\"\"\n",
    "    command = ['yt-dlp', '--get-duration', youtube_url]\n",
    "    result = subprocess.run(command, capture_output=True, text=True, check=True)\n",
    "    duration_str = result.stdout.strip()\n",
    "    \n",
    "    h, m, s = 0, 0, 0\n",
    "    if len(duration_str.split(':')) == 3:\n",
    "        h, m, s = map(int, duration_str.split(':'))\n",
    "    elif len(duration_str.split(':')) == 2:\n",
    "        m, s = map(int, duration_str.split(':'))\n",
    "    else:\n",
    "        s = int(duration_str)\n",
    "    \n",
    "    return h * 3600 + m * 60 + s\n",
    "\n",
    "def download_clips(youtube_url, player, start_time=\"00:00:00\", duration=5, num_clips=5):\n",
    "    \"\"\"Downloads specified number of clips from a YouTube video.\"\"\"\n",
    "    output_dir = '/Users/treyshanks/data_science/Court_Vision/data/inputs'\n",
    "\n",
    "    def time_to_seconds(time_str):\n",
    "        h, m, s = map(int, time_str.split(':'))\n",
    "        return h * 3600 + m * 60 + s\n",
    "\n",
    "    def seconds_to_time(seconds):\n",
    "        h = seconds // 3600\n",
    "        m = (seconds % 3600) // 60\n",
    "        s = seconds % 60\n",
    "        return f\"{h:02}:{m:02}:{s:02}\"\n",
    "\n",
    "    start_seconds = time_to_seconds(start_time)\n",
    "    total_duration = get_video_duration(youtube_url)\n",
    "    \n",
    "    interval = (total_duration - start_seconds) // num_clips\n",
    "    \n",
    "    for i in range(num_clips):\n",
    "        clip_start = start_seconds + i * interval\n",
    "        clip_end = clip_start + duration\n",
    "        clip_start_str = seconds_to_time(clip_start)\n",
    "        clip_end_str = seconds_to_time(clip_end)\n",
    "        \n",
    "        output_file = f\"{output_dir}/{player}_{i+1}.mp4\"\n",
    "        \n",
    "        command = [\n",
    "            'yt-dlp',\n",
    "            '--download-sections', f\"*{clip_start_str}-{clip_end_str}\",\n",
    "            '--merge-output-format', 'mp4',\n",
    "            youtube_url,\n",
    "            '-o', output_file\n",
    "        ]\n",
    "        \n",
    "        print(f\"Running command: {' '.join(command)}\")\n",
    "        subprocess.run(command, check=True)"
   ]
  },
  {
   "cell_type": "code",
   "execution_count": 5,
   "metadata": {},
   "outputs": [
    {
     "name": "stdout",
     "output_type": "stream",
     "text": [
      "Running command: yt-dlp --download-sections *00:00:00-00:00:05 --merge-output-format mp4 https://www.youtube.com/watch?v=eoWpU1VtXV4 -o /Users/treyshanks/data_science/Court_Vision/data/inputs/lebron_short_1.mp4\n",
      "[youtube] Extracting URL: https://www.youtube.com/watch?v=eoWpU1VtXV4\n",
      "[youtube] eoWpU1VtXV4: Downloading webpage\n",
      "[youtube] eoWpU1VtXV4: Downloading ios player API JSON\n",
      "[youtube] eoWpU1VtXV4: Downloading m3u8 information\n",
      "[info] eoWpU1VtXV4: Downloading 1 format(s): 303+251\n",
      "[info] eoWpU1VtXV4: Downloading 1 time ranges: 0.0-5.0\n",
      "[download] Destination: /Users/treyshanks/data_science/Court_Vision/data/inputs/lebron_short_1.mp4\n"
     ]
    },
    {
     "name": "stderr",
     "output_type": "stream",
     "text": [
      "Input #0, matroska,webm, from 'https://rr1---sn-5ualdnll.googlevideo.com/videoplayback?expire=1717572800&ei=YMBfZvKYKKmEy_sP1JS4qA4&ip=2601%3A483%3A4b7e%3Ad050%3Af96d%3A16a6%3A8073%3A4e26&id=o-APgo7Mos4G41OdUB8_0tELUCw4MlobO2eBkO4il1vb_L&itag=303&aitags=133%2C134%2C135%2C136%2C160%2C242%2C243%2C244%2C247%2C278%2C298%2C299%2C302%2C303%2C394%2C395%2C396%2C397%2C398%2C399&source=youtube&requiressl=yes&xpc=EgVo2aDSNQ%3D%3D&mh=GS&mm=31%2C29&mn=sn-5ualdnll%2Csn-5uaeznez&ms=au%2Crdu&mv=m&mvi=1&pl=30&gcr=us&initcwndbps=1357500&bui=AbKP-1O3JkZuj7rb3BWSHpU2A-r3unQIrQDc4W159D7kWuv4pq6qRFUor0PksvnosA4ri5EYnzDKHjxu&spc=UWF9f3aS_eX-vamqBm_nccSw_w4hHV-E4FYj0S1doUGXd835g8yBWTfYA6TI&vprv=1&svpuc=1&mime=video%2Fwebm&ns=OgPWqV2HqXHYh8lX_qJfRggQ&rqh=1&gir=yes&clen=111404075&dur=224.124&lmt=1700134674291296&mt=1717550929&fvip=4&keepalive=yes&c=WEB&sefc=1&txp=4535434&n=1FrseeovSVVtEQ&sparams=expire%2Cei%2Cip%2Cid%2Caitags%2Csource%2Crequiressl%2Cxpc%2Cgcr%2Cbui%2Cspc%2Cvprv%2Csvpuc%2Cmime%2Cns%2Crqh%2Cgir%2Cclen%2Cdur%2Clmt&sig=AJfQdSswRAIgOZOrc03p2YNUvSRIRdg2x22I012G9Cl055eGm4jzm4ICIFZY3SVpf6fz95gFrGvol1pYWdww6WPySCdoFTeejA4U&lsparams=mh%2Cmm%2Cmn%2Cms%2Cmv%2Cmvi%2Cpl%2Cinitcwndbps&lsig=AHlkHjAwRAIgbrfUZt67Pur0315DPxd2WYgMWB72cYDDSLKhp4wHPvoCIAZKKhxOSOjzWJeeYXSBDiCC5poUvVqk_ItksoEq4Kys':\n",
      "  Metadata:\n",
      "    encoder         : google/video-file\n",
      "  Duration: 00:03:44.12, start: 0.000000, bitrate: 3976 kb/s\n",
      "  Stream #0:0(eng): Video: vp9 (Profile 0), yuv420p(tv, bt709), 1920x1080, SAR 1:1 DAR 16:9, 59.94 fps, 59.94 tbr, 1k tbn (default)\n",
      "Input #1, matroska,webm, from 'https://rr1---sn-5ualdnll.googlevideo.com/videoplayback?expire=1717572800&ei=YMBfZvKYKKmEy_sP1JS4qA4&ip=2601%3A483%3A4b7e%3Ad050%3Af96d%3A16a6%3A8073%3A4e26&id=o-APgo7Mos4G41OdUB8_0tELUCw4MlobO2eBkO4il1vb_L&itag=251&source=youtube&requiressl=yes&xpc=EgVo2aDSNQ%3D%3D&mh=GS&mm=31%2C29&mn=sn-5ualdnll%2Csn-5uaeznez&ms=au%2Crdu&mv=m&mvi=1&pl=30&gcr=us&initcwndbps=1357500&bui=AbKP-1O3JkZuj7rb3BWSHpU2A-r3unQIrQDc4W159D7kWuv4pq6qRFUor0PksvnosA4ri5EYnzDKHjxu&spc=UWF9f3aS_eX-vamqBm_nccSw_w4hHV-E4FYj0S1doUGXd835g8yBWTfYA6TI&vprv=1&svpuc=1&mime=audio%2Fwebm&ns=OgPWqV2HqXHYh8lX_qJfRggQ&rqh=1&gir=yes&clen=3426309&dur=224.261&lmt=1700119688659471&mt=1717550929&fvip=4&keepalive=yes&c=WEB&sefc=1&txp=4532434&n=1FrseeovSVVtEQ&sparams=expire%2Cei%2Cip%2Cid%2Citag%2Csource%2Crequiressl%2Cxpc%2Cgcr%2Cbui%2Cspc%2Cvprv%2Csvpuc%2Cmime%2Cns%2Crqh%2Cgir%2Cclen%2Cdur%2Clmt&sig=AJfQdSswRgIhANCR3ssxUX2ZZ50bxbR0bTPXQlUmfR9XQ0oiNQwc0NrRAiEAoOjIh-uTapqhxB6PnObGTHiCX17Joh7V1TfCOjuRkAQ%3D&lsparams=mh%2Cmm%2Cmn%2Cms%2Cmv%2Cmvi%2Cpl%2Cinitcwndbps&lsig=AHlkHjAwRAIgbrfUZt67Pur0315DPxd2WYgMWB72cYDDSLKhp4wHPvoCIAZKKhxOSOjzWJeeYXSBDiCC5poUvVqk_ItksoEq4Kys':\n",
      "  Metadata:\n",
      "    encoder         : google/video-file\n",
      "  Duration: 00:03:44.26, start: -0.007000, bitrate: 122 kb/s\n",
      "  Stream #1:0(eng): Audio: opus, 48000 Hz, stereo, fltp (default)\n",
      "[mp4 @ 0x11656b6e0] track 1: codec frame size is not set\n",
      "Output #0, mp4, to 'file:/Users/treyshanks/data_science/Court_Vision/data/inputs/lebron_short_1.mp4.part':\n",
      "  Metadata:\n",
      "    encoder         : Lavf60.16.100\n",
      "  Stream #0:0(eng): Video: vp9 (Profile 0) (vp09 / 0x39307076), yuv420p(tv, bt709), 1920x1080 [SAR 1:1 DAR 16:9], q=2-31, 59.94 fps, 59.94 tbr, 16k tbn (default)\n",
      "  Stream #0:1(eng): Audio: opus (Opus / 0x7375704F), 48000 Hz, stereo, fltp (default)\n",
      "Stream mapping:\n",
      "  Stream #0:0 -> #0:0 (copy)\n",
      "  Stream #1:0 -> #0:1 (copy)\n",
      "Press [q] to stop, [?] for help\n",
      "[out#0/mp4 @ 0x11656b0f0] video:2738kB audio:75kB subtitle:0kB other streams:0kB global headers:0kB muxing overhead: 0.286977%\n",
      "size=    2821kB time=00:00:04.98 bitrate=4632.9kbits/s speed=1.92x    \n"
     ]
    },
    {
     "name": "stdout",
     "output_type": "stream",
     "text": [
      "[download] 100% of    2.75MiB in 00:00:03 at 901.99KiB/s\n",
      "Running command: yt-dlp --download-sections *00:00:44-00:00:49 --merge-output-format mp4 https://www.youtube.com/watch?v=eoWpU1VtXV4 -o /Users/treyshanks/data_science/Court_Vision/data/inputs/lebron_short_2.mp4\n",
      "[youtube] Extracting URL: https://www.youtube.com/watch?v=eoWpU1VtXV4\n",
      "[youtube] eoWpU1VtXV4: Downloading webpage\n",
      "[youtube] eoWpU1VtXV4: Downloading ios player API JSON\n",
      "[youtube] eoWpU1VtXV4: Downloading m3u8 information\n",
      "[info] eoWpU1VtXV4: Downloading 1 format(s): 303+251\n",
      "[info] eoWpU1VtXV4: Downloading 1 time ranges: 44.0-49.0\n",
      "[download] Destination: /Users/treyshanks/data_science/Court_Vision/data/inputs/lebron_short_2.mp4\n"
     ]
    },
    {
     "name": "stderr",
     "output_type": "stream",
     "text": [
      "Input #0, matroska,webm, from 'https://rr4---sn-5uaeznez.googlevideo.com/videoplayback?expire=1717572805&ei=ZcBfZqePLNG80_wPktuMyAQ&ip=2601%3A483%3A4b7e%3Ad050%3Af96d%3A16a6%3A8073%3A4e26&id=o-AB3NZLEt_IJXVeVK9xDEVhIAUZ2IAJUHdwCZc-NdIJkg&itag=303&aitags=133%2C134%2C135%2C136%2C160%2C242%2C243%2C244%2C247%2C278%2C298%2C299%2C302%2C303%2C394%2C395%2C396%2C397%2C398%2C399&source=youtube&requiressl=yes&xpc=EgVo2aDSNQ%3D%3D&mh=GS&mm=31%2C29&mn=sn-5uaeznez%2Csn-5ualdnll&ms=au%2Crdu&mv=m&mvi=4&pl=30&gcr=us&initcwndbps=1358750&bui=AbKP-1P5so46-rWny2KoY-1BoG_uDzswEFC_xIYDKg6QrVal6OHuUdN50FKw-M3qPPu--vWWMl6GvAhL&spc=UWF9f7fiV3zkLGrd8hiW08IB7Zs3CHSU8lE4iWWtZylMFjMzM5KScGABZtvS&vprv=1&svpuc=1&mime=video%2Fwebm&ns=znrs4vuHc68D6EuF4EWk4cMQ&rqh=1&gir=yes&clen=111404075&dur=224.124&lmt=1700134674291296&mt=1717550929&fvip=1&keepalive=yes&c=WEB&sefc=1&txp=4535434&n=HjCQjnWn-Dph_w&sparams=expire%2Cei%2Cip%2Cid%2Caitags%2Csource%2Crequiressl%2Cxpc%2Cgcr%2Cbui%2Cspc%2Cvprv%2Csvpuc%2Cmime%2Cns%2Crqh%2Cgir%2Cclen%2Cdur%2Clmt&sig=AJfQdSswRQIhAO-RJ5FJvRMJxh2cDzRRX9OI63hcu1_HF68DCYMI9mwqAiAVvls5cxBCJi4C9A2dDhX1XR41j9kfpYU9qFIJMDhc4w%3D%3D&lsparams=mh%2Cmm%2Cmn%2Cms%2Cmv%2Cmvi%2Cpl%2Cinitcwndbps&lsig=AHlkHjAwRgIhANbyJ3TB548tyfN-0aB1ybwekmOQyGOVstvA4Ofjn1qXAiEA61_eQdtvmuHm4gTwrQa8z4sORgHc53FErh7E8CHdnng%3D':\n",
      "  Metadata:\n",
      "    encoder         : google/video-file\n",
      "  Duration: 00:03:44.12, start: 0.000000, bitrate: 3976 kb/s\n",
      "  Stream #0:0(eng): Video: vp9 (Profile 0), yuv420p(tv, bt709), 1920x1080, SAR 1:1 DAR 16:9, 59.94 fps, 59.94 tbr, 1k tbn (default)\n",
      "Input #1, matroska,webm, from 'https://rr4---sn-5uaeznez.googlevideo.com/videoplayback?expire=1717572805&ei=ZcBfZqePLNG80_wPktuMyAQ&ip=2601%3A483%3A4b7e%3Ad050%3Af96d%3A16a6%3A8073%3A4e26&id=o-AB3NZLEt_IJXVeVK9xDEVhIAUZ2IAJUHdwCZc-NdIJkg&itag=251&source=youtube&requiressl=yes&xpc=EgVo2aDSNQ%3D%3D&mh=GS&mm=31%2C29&mn=sn-5uaeznez%2Csn-5ualdnll&ms=au%2Crdu&mv=m&mvi=4&pl=30&gcr=us&initcwndbps=1358750&bui=AbKP-1P5so46-rWny2KoY-1BoG_uDzswEFC_xIYDKg6QrVal6OHuUdN50FKw-M3qPPu--vWWMl6GvAhL&spc=UWF9f7fiV3zkLGrd8hiW08IB7Zs3CHSU8lE4iWWtZylMFjMzM5KScGABZtvS&vprv=1&svpuc=1&mime=audio%2Fwebm&ns=znrs4vuHc68D6EuF4EWk4cMQ&rqh=1&gir=yes&clen=3426309&dur=224.261&lmt=1700119688659471&mt=1717550929&fvip=1&keepalive=yes&c=WEB&sefc=1&txp=4532434&n=HjCQjnWn-Dph_w&sparams=expire%2Cei%2Cip%2Cid%2Citag%2Csource%2Crequiressl%2Cxpc%2Cgcr%2Cbui%2Cspc%2Cvprv%2Csvpuc%2Cmime%2Cns%2Crqh%2Cgir%2Cclen%2Cdur%2Clmt&sig=AJfQdSswRgIhAKCJ3v7-uvmDykfVzrZtCCgCN5QKNI2TxZnpP-PaXmGQAiEAkuMS_tNCWfbidQLfapv_kcIXPmi7z_DOKMa9SAB-2Lw%3D&lsparams=mh%2Cmm%2Cmn%2Cms%2Cmv%2Cmvi%2Cpl%2Cinitcwndbps&lsig=AHlkHjAwRgIhANbyJ3TB548tyfN-0aB1ybwekmOQyGOVstvA4Ofjn1qXAiEA61_eQdtvmuHm4gTwrQa8z4sORgHc53FErh7E8CHdnng%3D':\n",
      "  Metadata:\n",
      "    encoder         : google/video-file\n",
      "  Duration: 00:03:44.26, start: -0.007000, bitrate: 122 kb/s\n",
      "  Stream #1:0(eng): Audio: opus, 48000 Hz, stereo, fltp (default)\n",
      "[mp4 @ 0x105c9ee00] track 1: codec frame size is not set\n",
      "Output #0, mp4, to 'file:/Users/treyshanks/data_science/Court_Vision/data/inputs/lebron_short_2.mp4.part':\n",
      "  Metadata:\n",
      "    encoder         : Lavf60.16.100\n",
      "  Stream #0:0(eng): Video: vp9 (Profile 0) (vp09 / 0x39307076), yuv420p(tv, bt709), 1920x1080 [SAR 1:1 DAR 16:9], q=2-31, 59.94 fps, 59.94 tbr, 16k tbn (default)\n",
      "  Stream #0:1(eng): Audio: opus (Opus / 0x7375704F), 48000 Hz, stereo, fltp (default)\n",
      "Stream mapping:\n",
      "  Stream #0:0 -> #0:0 (copy)\n",
      "  Stream #1:0 -> #0:1 (copy)\n",
      "Press [q] to stop, [?] for help\n",
      "[out#0/mp4 @ 0x12ae6bc80] video:3139kB audio:131kB subtitle:0kB other streams:0kB global headers:0kB muxing overhead: 0.338733%\n",
      "size=    3281kB time=00:00:04.99 bitrate=5376.6kbits/s speed=1.62x    \n"
     ]
    },
    {
     "name": "stdout",
     "output_type": "stream",
     "text": [
      "[download] 100% of    3.20MiB in 00:00:03 at 838.41KiB/s\n",
      "Running command: yt-dlp --download-sections *00:01:28-00:01:33 --merge-output-format mp4 https://www.youtube.com/watch?v=eoWpU1VtXV4 -o /Users/treyshanks/data_science/Court_Vision/data/inputs/lebron_short_3.mp4\n",
      "[youtube] Extracting URL: https://www.youtube.com/watch?v=eoWpU1VtXV4\n",
      "[youtube] eoWpU1VtXV4: Downloading webpage\n",
      "[youtube] eoWpU1VtXV4: Downloading ios player API JSON\n",
      "[youtube] eoWpU1VtXV4: Downloading m3u8 information\n",
      "[info] eoWpU1VtXV4: Downloading 1 format(s): 303+251\n",
      "[info] eoWpU1VtXV4: Downloading 1 time ranges: 88.0-93.0\n",
      "[download] Destination: /Users/treyshanks/data_science/Court_Vision/data/inputs/lebron_short_3.mp4\n"
     ]
    },
    {
     "name": "stderr",
     "output_type": "stream",
     "text": [
      "Input #0, matroska,webm, from 'https://rr1---sn-5ualdnll.googlevideo.com/videoplayback?expire=1717572811&ei=a8BfZq-CI6OFy_sPnbaU0QQ&ip=2601%3A483%3A4b7e%3Ad050%3Af96d%3A16a6%3A8073%3A4e26&id=o-AI-sWMPx1v8zEvE6kUVb1OVeUVWkmnoHVwlp-I-R8RQJ&itag=303&aitags=133%2C134%2C135%2C136%2C160%2C242%2C243%2C244%2C247%2C278%2C298%2C299%2C302%2C303%2C394%2C395%2C396%2C397%2C398%2C399&source=youtube&requiressl=yes&xpc=EgVo2aDSNQ%3D%3D&mh=GS&mm=31%2C26&mn=sn-5ualdnll%2Csn-p5qs7nzy&ms=au%2Conr&mv=m&mvi=1&pl=30&gcr=us&initcwndbps=1358750&bui=AbKP-1M3ar-WYbWpZZ6o9elJePizaml5Di9m0wcV7QsOw9Kb8DzyBmOPeJ_emDLK5OKoD9guVyrjyRO2&spc=UWF9fxdX4fgtNEGCtEzz3eVih169SpKcsFUOohUaQtLbb8CQ8BKqw9LgW74j&vprv=1&svpuc=1&mime=video%2Fwebm&ns=0Y72iQRKHik1U0kIDsRHRE8Q&rqh=1&gir=yes&clen=111404075&dur=224.124&lmt=1700134674291296&mt=1717550929&fvip=4&keepalive=yes&c=WEB&sefc=1&txp=4535434&n=VgKWz4V3eV4-4w&sparams=expire%2Cei%2Cip%2Cid%2Caitags%2Csource%2Crequiressl%2Cxpc%2Cgcr%2Cbui%2Cspc%2Cvprv%2Csvpuc%2Cmime%2Cns%2Crqh%2Cgir%2Cclen%2Cdur%2Clmt&sig=AJfQdSswRQIhAMHxGdxQ5ohNssoKdtLTnJC3fUsUtTTdj3G5TvyuAh0yAiAjOOunE6xBlS7iGCloD1mvDeASSvnv8CT_V6lr8c8XyA%3D%3D&lsparams=mh%2Cmm%2Cmn%2Cms%2Cmv%2Cmvi%2Cpl%2Cinitcwndbps&lsig=AHlkHjAwRQIgUSg4vUjzUyZXGL32sw--6gk7iJ4A6lVa6x-fuF8sv84CIQDhWdxDLFdt5X5fFjCgWCbK1BIEl_wtmxxOfC4haL_L4Q%3D%3D':\n",
      "  Metadata:\n",
      "    encoder         : google/video-file\n",
      "  Duration: 00:03:44.12, start: 0.000000, bitrate: 3976 kb/s\n",
      "  Stream #0:0(eng): Video: vp9 (Profile 0), yuv420p(tv, bt709), 1920x1080, SAR 1:1 DAR 16:9, 59.94 fps, 59.94 tbr, 1k tbn (default)\n",
      "Input #1, matroska,webm, from 'https://rr1---sn-5ualdnll.googlevideo.com/videoplayback?expire=1717572811&ei=a8BfZq-CI6OFy_sPnbaU0QQ&ip=2601%3A483%3A4b7e%3Ad050%3Af96d%3A16a6%3A8073%3A4e26&id=o-AI-sWMPx1v8zEvE6kUVb1OVeUVWkmnoHVwlp-I-R8RQJ&itag=251&source=youtube&requiressl=yes&xpc=EgVo2aDSNQ%3D%3D&mh=GS&mm=31%2C26&mn=sn-5ualdnll%2Csn-p5qs7nzy&ms=au%2Conr&mv=m&mvi=1&pl=30&gcr=us&initcwndbps=1358750&bui=AbKP-1M3ar-WYbWpZZ6o9elJePizaml5Di9m0wcV7QsOw9Kb8DzyBmOPeJ_emDLK5OKoD9guVyrjyRO2&spc=UWF9fxdX4fgtNEGCtEzz3eVih169SpKcsFUOohUaQtLbb8CQ8BKqw9LgW74j&vprv=1&svpuc=1&mime=audio%2Fwebm&ns=0Y72iQRKHik1U0kIDsRHRE8Q&rqh=1&gir=yes&clen=3426309&dur=224.261&lmt=1700119688659471&mt=1717550929&fvip=4&keepalive=yes&c=WEB&sefc=1&txp=4532434&n=VgKWz4V3eV4-4w&sparams=expire%2Cei%2Cip%2Cid%2Citag%2Csource%2Crequiressl%2Cxpc%2Cgcr%2Cbui%2Cspc%2Cvprv%2Csvpuc%2Cmime%2Cns%2Crqh%2Cgir%2Cclen%2Cdur%2Clmt&sig=AJfQdSswRQIgOQP9mUT7RbwXxg0pha4e6CB6NkgrpRFdhdO-bAtXL6kCIQCErn_-1u-Ui64dh59GrSulSQ44vH4Xx8SUdEh7vYmXVg%3D%3D&lsparams=mh%2Cmm%2Cmn%2Cms%2Cmv%2Cmvi%2Cpl%2Cinitcwndbps&lsig=AHlkHjAwRQIgUSg4vUjzUyZXGL32sw--6gk7iJ4A6lVa6x-fuF8sv84CIQDhWdxDLFdt5X5fFjCgWCbK1BIEl_wtmxxOfC4haL_L4Q%3D%3D':\n",
      "  Metadata:\n",
      "    encoder         : google/video-file\n",
      "  Duration: 00:03:44.26, start: -0.007000, bitrate: 122 kb/s\n",
      "  Stream #1:0(eng): Audio: opus, 48000 Hz, stereo, fltp (default)\n",
      "[mp4 @ 0x159711450] track 1: codec frame size is not set\n",
      "Output #0, mp4, to 'file:/Users/treyshanks/data_science/Court_Vision/data/inputs/lebron_short_3.mp4.part':\n",
      "  Metadata:\n",
      "    encoder         : Lavf60.16.100\n",
      "  Stream #0:0(eng): Video: vp9 (Profile 0) (vp09 / 0x39307076), yuv420p(tv, bt709), 1920x1080 [SAR 1:1 DAR 16:9], q=2-31, 59.94 fps, 59.94 tbr, 16k tbn (default)\n",
      "  Stream #0:1(eng): Audio: opus (Opus / 0x7375704F), 48000 Hz, stereo, fltp (default)\n",
      "Stream mapping:\n",
      "  Stream #0:0 -> #0:0 (copy)\n",
      "  Stream #1:0 -> #0:1 (copy)\n",
      "Press [q] to stop, [?] for help\n",
      "[out#0/mp4 @ 0x159711df0] video:3608kB audio:194kB subtitle:0kB other streams:0kB global headers:0kB muxing overhead: 0.297477%\n",
      "size=    3813kB time=00:00:04.99 bitrate=6256.7kbits/s speed=1.41x    \n"
     ]
    },
    {
     "name": "stdout",
     "output_type": "stream",
     "text": [
      "[download] 100% of    3.72MiB in 00:00:04 at 884.98KiB/s\n",
      "Running command: yt-dlp --download-sections *00:02:12-00:02:17 --merge-output-format mp4 https://www.youtube.com/watch?v=eoWpU1VtXV4 -o /Users/treyshanks/data_science/Court_Vision/data/inputs/lebron_short_4.mp4\n",
      "[youtube] Extracting URL: https://www.youtube.com/watch?v=eoWpU1VtXV4\n",
      "[youtube] eoWpU1VtXV4: Downloading webpage\n",
      "[youtube] eoWpU1VtXV4: Downloading ios player API JSON\n",
      "[youtube] eoWpU1VtXV4: Downloading m3u8 information\n",
      "[info] eoWpU1VtXV4: Downloading 1 format(s): 303+251\n",
      "[info] eoWpU1VtXV4: Downloading 1 time ranges: 132.0-137.0\n",
      "[download] Destination: /Users/treyshanks/data_science/Court_Vision/data/inputs/lebron_short_4.mp4\n"
     ]
    },
    {
     "name": "stderr",
     "output_type": "stream",
     "text": [
      "Input #0, matroska,webm, from 'https://rr1---sn-5ualdnll.googlevideo.com/videoplayback?expire=1717572817&ei=ccBfZp6YNeLA0_wPld-CuA8&ip=2601%3A483%3A4b7e%3Ad050%3Af96d%3A16a6%3A8073%3A4e26&id=o-ALw_t5j7N6E8FIUr-97N_HB_I84vJInOho4HI8a0V7ah&itag=303&aitags=133%2C134%2C135%2C136%2C160%2C242%2C243%2C244%2C247%2C278%2C298%2C299%2C302%2C303%2C394%2C395%2C396%2C397%2C398%2C399&source=youtube&requiressl=yes&xpc=EgVo2aDSNQ%3D%3D&mh=GS&mm=31%2C29&mn=sn-5ualdnll%2Csn-5uaeznez&ms=au%2Crdu&mv=m&mvi=1&pl=30&gcr=us&initcwndbps=1348750&bui=AbKP-1M84BMsZRjPyOHGhQRgsuF4BD2Z_05jSkoIFRQfTqaCEoz2KG2NwrkfsLeIzsqaHfxLvXyWYq8M&spc=UWF9fxc3Lx5bMu6zq9AJHZ00RUtBDNVCnautQuKykYrYUtoVM1Pa7JlJh2ci&vprv=1&svpuc=1&mime=video%2Fwebm&ns=Scs3Ql0hpyaxrCjaM5G8VFMQ&rqh=1&gir=yes&clen=111404075&dur=224.124&lmt=1700134674291296&mt=1717551174&fvip=4&keepalive=yes&c=WEB&sefc=1&txp=4535434&n=a9zqB82bk7q6gQ&sparams=expire%2Cei%2Cip%2Cid%2Caitags%2Csource%2Crequiressl%2Cxpc%2Cgcr%2Cbui%2Cspc%2Cvprv%2Csvpuc%2Cmime%2Cns%2Crqh%2Cgir%2Cclen%2Cdur%2Clmt&sig=AJfQdSswRQIgWbOZZd1mqVjzsLmXrrBnROsc2M9FtxEDAwH5hFrv1RECIQD2yQOuuoyFP-ihlw-xQXNi3wx0Is393TaM8UoMFRPyyQ%3D%3D&lsparams=mh%2Cmm%2Cmn%2Cms%2Cmv%2Cmvi%2Cpl%2Cinitcwndbps&lsig=AHlkHjAwRAIgeFEHJHIDbfGp8oR0XDs1r-nl9f1kcR54MyIc4QsHtzwCIAo3m129qPqP_uaWRVDQbfV8PuyBovTDSQrBGyH8PdJu':\n",
      "  Metadata:\n",
      "    encoder         : google/video-file\n",
      "  Duration: 00:03:44.12, start: 0.000000, bitrate: 3976 kb/s\n",
      "  Stream #0:0(eng): Video: vp9 (Profile 0), yuv420p(tv, bt709), 1920x1080, SAR 1:1 DAR 16:9, 59.94 fps, 59.94 tbr, 1k tbn (default)\n",
      "Input #1, matroska,webm, from 'https://rr1---sn-5ualdnll.googlevideo.com/videoplayback?expire=1717572817&ei=ccBfZp6YNeLA0_wPld-CuA8&ip=2601%3A483%3A4b7e%3Ad050%3Af96d%3A16a6%3A8073%3A4e26&id=o-ALw_t5j7N6E8FIUr-97N_HB_I84vJInOho4HI8a0V7ah&itag=251&source=youtube&requiressl=yes&xpc=EgVo2aDSNQ%3D%3D&mh=GS&mm=31%2C29&mn=sn-5ualdnll%2Csn-5uaeznez&ms=au%2Crdu&mv=m&mvi=1&pl=30&gcr=us&initcwndbps=1348750&bui=AbKP-1M84BMsZRjPyOHGhQRgsuF4BD2Z_05jSkoIFRQfTqaCEoz2KG2NwrkfsLeIzsqaHfxLvXyWYq8M&spc=UWF9fxc3Lx5bMu6zq9AJHZ00RUtBDNVCnautQuKykYrYUtoVM1Pa7JlJh2ci&vprv=1&svpuc=1&mime=audio%2Fwebm&ns=Scs3Ql0hpyaxrCjaM5G8VFMQ&rqh=1&gir=yes&clen=3426309&dur=224.261&lmt=1700119688659471&mt=1717551174&fvip=4&keepalive=yes&c=WEB&sefc=1&txp=4532434&n=a9zqB82bk7q6gQ&sparams=expire%2Cei%2Cip%2Cid%2Citag%2Csource%2Crequiressl%2Cxpc%2Cgcr%2Cbui%2Cspc%2Cvprv%2Csvpuc%2Cmime%2Cns%2Crqh%2Cgir%2Cclen%2Cdur%2Clmt&sig=AJfQdSswRAIgINwVNRRRkhDxML6XoI3-uEXQ-KXFiksBK3NgKuj0AJgCIEUU31r2om3U5hl9dHHy5oqscdXaum5TfWEUKh7x6x0j&lsparams=mh%2Cmm%2Cmn%2Cms%2Cmv%2Cmvi%2Cpl%2Cinitcwndbps&lsig=AHlkHjAwRAIgeFEHJHIDbfGp8oR0XDs1r-nl9f1kcR54MyIc4QsHtzwCIAo3m129qPqP_uaWRVDQbfV8PuyBovTDSQrBGyH8PdJu':\n",
      "  Metadata:\n",
      "    encoder         : google/video-file\n",
      "  Duration: 00:03:44.26, start: -0.007000, bitrate: 122 kb/s\n",
      "  Stream #1:0(eng): Audio: opus, 48000 Hz, stereo, fltp (default)\n",
      "[mp4 @ 0x11e1958d0] track 1: codec frame size is not set\n",
      "Output #0, mp4, to 'file:/Users/treyshanks/data_science/Court_Vision/data/inputs/lebron_short_4.mp4.part':\n",
      "  Metadata:\n",
      "    encoder         : Lavf60.16.100\n",
      "  Stream #0:0(eng): Video: vp9 (Profile 0) (vp09 / 0x39307076), yuv420p(tv, bt709), 1920x1080 [SAR 1:1 DAR 16:9], q=2-31, 59.94 fps, 59.94 tbr, 16k tbn (default)\n",
      "  Stream #0:1(eng): Audio: opus (Opus / 0x7375704F), 48000 Hz, stereo, fltp (default)\n",
      "Stream mapping:\n",
      "  Stream #0:0 -> #0:0 (copy)\n",
      "  Stream #1:0 -> #0:1 (copy)\n",
      "Press [q] to stop, [?] for help\n",
      "[out#0/mp4 @ 0x11e1f06e0] video:3710kB audio:102kB subtitle:0kB other streams:0kB global headers:0kB muxing overhead: 0.272593%\n",
      "size=    3823kB time=00:00:04.98 bitrate=6279.7kbits/s speed=1.35x    \n"
     ]
    },
    {
     "name": "stdout",
     "output_type": "stream",
     "text": [
      "[download] 100% of    3.73MiB in 00:00:04 at 850.98KiB/s\n",
      "Running command: yt-dlp --download-sections *00:02:56-00:03:01 --merge-output-format mp4 https://www.youtube.com/watch?v=eoWpU1VtXV4 -o /Users/treyshanks/data_science/Court_Vision/data/inputs/lebron_short_5.mp4\n",
      "[youtube] Extracting URL: https://www.youtube.com/watch?v=eoWpU1VtXV4\n",
      "[youtube] eoWpU1VtXV4: Downloading webpage\n",
      "[youtube] eoWpU1VtXV4: Downloading ios player API JSON\n",
      "[youtube] eoWpU1VtXV4: Downloading m3u8 information\n",
      "[info] eoWpU1VtXV4: Downloading 1 format(s): 303+251\n",
      "[info] eoWpU1VtXV4: Downloading 1 time ranges: 176.0-181.0\n",
      "[download] Destination: /Users/treyshanks/data_science/Court_Vision/data/inputs/lebron_short_5.mp4\n"
     ]
    },
    {
     "name": "stderr",
     "output_type": "stream",
     "text": [
      "Input #0, matroska,webm, from 'https://rr1---sn-5ualdnll.googlevideo.com/videoplayback?expire=1717572824&ei=eMBfZrymFsnC0_wPvY67mAs&ip=2601%3A483%3A4b7e%3Ad050%3Af96d%3A16a6%3A8073%3A4e26&id=o-AEU1FRrHfa6uKIk7pFs_mbRdC-KkBJhpmKsa3i8Mhu_N&itag=303&aitags=133%2C134%2C135%2C136%2C160%2C242%2C243%2C244%2C247%2C278%2C298%2C299%2C302%2C303%2C394%2C395%2C396%2C397%2C398%2C399&source=youtube&requiressl=yes&xpc=EgVo2aDSNQ%3D%3D&mh=GS&mm=31%2C29&mn=sn-5ualdnll%2Csn-5uaeznez&ms=au%2Crdu&mv=m&mvi=1&pl=30&gcr=us&initcwndbps=1358750&bui=AbKP-1PGBUoIfWQHEwqTuHnNIHL9PLLu2FWSggteqUGPnAPhGMMjrRpY6RCnuUYmRFwd-k8JiT5Jhydy&spc=UWF9f0WgnRDcCKnFnZAyQZzTjoDxRWs_HOTSX_zw135Cw8ATDnuKFqkOYqkE&vprv=1&svpuc=1&mime=video%2Fwebm&ns=CxjosmV6nbJwPLMB6v22bkUQ&rqh=1&gir=yes&clen=111404075&dur=224.124&lmt=1700134674291296&mt=1717550929&fvip=4&keepalive=yes&c=WEB&sefc=1&txp=4535434&n=3P0ILGipW0rRzg&sparams=expire%2Cei%2Cip%2Cid%2Caitags%2Csource%2Crequiressl%2Cxpc%2Cgcr%2Cbui%2Cspc%2Cvprv%2Csvpuc%2Cmime%2Cns%2Crqh%2Cgir%2Cclen%2Cdur%2Clmt&sig=AJfQdSswRQIgfV3MQdEWuO5zMF6EacwOqnid5LOBoh3szSaPyXFN3lwCIQCr_kBOvQ8rzsXDaxcu_wYtlUTxaAJCghqha6T_7bURlw%3D%3D&lsparams=mh%2Cmm%2Cmn%2Cms%2Cmv%2Cmvi%2Cpl%2Cinitcwndbps&lsig=AHlkHjAwRAIgZJnkKidUvZWGzC8P0vglwf_W_XoO1QQLwk1S0G6vPnICID7PPqaS05yLuuFgbYSwFTORn5ClEC3pVuS3Y0sXBC56':\n",
      "  Metadata:\n",
      "    encoder         : google/video-file\n",
      "  Duration: 00:03:44.12, start: 0.000000, bitrate: 3976 kb/s\n",
      "  Stream #0:0(eng): Video: vp9 (Profile 0), yuv420p(tv, bt709), 1920x1080, SAR 1:1 DAR 16:9, 59.94 fps, 59.94 tbr, 1k tbn (default)\n",
      "Input #1, matroska,webm, from 'https://rr1---sn-5ualdnll.googlevideo.com/videoplayback?expire=1717572824&ei=eMBfZrymFsnC0_wPvY67mAs&ip=2601%3A483%3A4b7e%3Ad050%3Af96d%3A16a6%3A8073%3A4e26&id=o-AEU1FRrHfa6uKIk7pFs_mbRdC-KkBJhpmKsa3i8Mhu_N&itag=251&source=youtube&requiressl=yes&xpc=EgVo2aDSNQ%3D%3D&mh=GS&mm=31%2C29&mn=sn-5ualdnll%2Csn-5uaeznez&ms=au%2Crdu&mv=m&mvi=1&pl=30&gcr=us&initcwndbps=1358750&bui=AbKP-1PGBUoIfWQHEwqTuHnNIHL9PLLu2FWSggteqUGPnAPhGMMjrRpY6RCnuUYmRFwd-k8JiT5Jhydy&spc=UWF9f0WgnRDcCKnFnZAyQZzTjoDxRWs_HOTSX_zw135Cw8ATDnuKFqkOYqkE&vprv=1&svpuc=1&mime=audio%2Fwebm&ns=CxjosmV6nbJwPLMB6v22bkUQ&rqh=1&gir=yes&clen=3426309&dur=224.261&lmt=1700119688659471&mt=1717550929&fvip=4&keepalive=yes&c=WEB&sefc=1&txp=4532434&n=3P0ILGipW0rRzg&sparams=expire%2Cei%2Cip%2Cid%2Citag%2Csource%2Crequiressl%2Cxpc%2Cgcr%2Cbui%2Cspc%2Cvprv%2Csvpuc%2Cmime%2Cns%2Crqh%2Cgir%2Cclen%2Cdur%2Clmt&sig=AJfQdSswRQIhAKHByX33sCWezNl8anhlqryjebnNF2VXa8PUV9kmnLycAiBqHD6IngrFIuVGsg6_n54-prvd923QFNLpL5B3xb0ibw%3D%3D&lsparams=mh%2Cmm%2Cmn%2Cms%2Cmv%2Cmvi%2Cpl%2Cinitcwndbps&lsig=AHlkHjAwRAIgZJnkKidUvZWGzC8P0vglwf_W_XoO1QQLwk1S0G6vPnICID7PPqaS05yLuuFgbYSwFTORn5ClEC3pVuS3Y0sXBC56':\n",
      "  Metadata:\n",
      "    encoder         : google/video-file\n",
      "  Duration: 00:03:44.26, start: -0.007000, bitrate: 122 kb/s\n",
      "  Stream #1:0(eng): Audio: opus, 48000 Hz, stereo, fltp (default)\n",
      "[mp4 @ 0x1267bcdf0] track 1: codec frame size is not set\n",
      "Output #0, mp4, to 'file:/Users/treyshanks/data_science/Court_Vision/data/inputs/lebron_short_5.mp4.part':\n",
      "  Metadata:\n",
      "    encoder         : Lavf60.16.100\n",
      "  Stream #0:0(eng): Video: vp9 (Profile 0) (vp09 / 0x39307076), yuv420p(tv, bt709), 1920x1080 [SAR 1:1 DAR 16:9], q=2-31, 59.94 fps, 59.94 tbr, 16k tbn (default)\n",
      "  Stream #0:1(eng): Audio: opus (Opus / 0x7375704F), 48000 Hz, stereo, fltp (default)\n",
      "Stream mapping:\n",
      "  Stream #0:0 -> #0:0 (copy)\n",
      "  Stream #1:0 -> #0:1 (copy)\n",
      "Press [q] to stop, [?] for help\n",
      "size=    2816kB time=00:00:03.99 bitrate=5773.0kbits/s speed= 1.5x      \r"
     ]
    },
    {
     "name": "stdout",
     "output_type": "stream",
     "text": [
      "[download] 100% of    3.28MiB in 00:00:03 at 873.70KiB/s\n"
     ]
    },
    {
     "name": "stderr",
     "output_type": "stream",
     "text": [
      "[out#0/mp4 @ 0x12671e990] video:3192kB audio:160kB subtitle:0kB other streams:0kB global headers:0kB muxing overhead: 0.325546%\n",
      "size=    3363kB time=00:00:04.99 bitrate=5513.0kbits/s speed=1.61x    \n"
     ]
    }
   ],
   "source": [
    "youtube_url = 'https://www.youtube.com/watch?v=eoWpU1VtXV4'\n",
    "\n",
    "download_clips(youtube_url, \"lebron_short\")"
   ]
  }
 ],
 "metadata": {
  "kernelspec": {
   "display_name": "yolo",
   "language": "python",
   "name": "python3"
  },
  "language_info": {
   "codemirror_mode": {
    "name": "ipython",
    "version": 3
   },
   "file_extension": ".py",
   "mimetype": "text/x-python",
   "name": "python",
   "nbconvert_exporter": "python",
   "pygments_lexer": "ipython3",
   "version": "3.12.3"
  }
 },
 "nbformat": 4,
 "nbformat_minor": 2
}
