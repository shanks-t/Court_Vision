{
 "cells": [
  {
   "cell_type": "code",
   "execution_count": null,
   "metadata": {},
   "outputs": [],
   "source": [
    "from ultralytics import YOLO\n",
    "\n",
    "# Paths to your model weight files and data.yaml file\n",
    "model_paths = [\n",
    "    '/Users/treyshanks/data_science/Court_Vision/lebron_collab/weights/best.pt',\n",
    "    '/Users/treyshanks/data_science/Court_Vision/notebooks/lebron_aug_best.pt'\n",
    "]\n",
    "data_yaml_path = '/Users/treyshanks/data_science/Court_Vision/agg_lebron/data.yaml'\n",
    "\n",
    "# List to store metrics for each model\n",
    "metrics_list = []\n",
    "\n",
    "# Validate each model\n",
    "for model_path in model_paths:\n",
    "    # Load the model\n",
    "    model = YOLO(model_path)\n",
    "    model.model.to('mps')\n",
    "    model.data = data_yaml_path  # Ensure the model uses the correct dataset configuration\n",
    "    \n",
    "    # Validate the model\n",
    "    metrics = model.val(\n",
    "        data=data_yaml_path,\n",
    "        device='mps',\n",
    "        save_json=True,\n",
    "        project=\"/Users/treyshanks/data_science/Court_Vision/data/outputs\",\n",
    "        name=f\"{model_path.split('/')[-1]}\"\n",
    "        ) \n",
    "    \n",
    "    # Store the metrics\n",
    "    metrics_list.append(metrics)\n",
    "\n",
    "# Compare the results\n",
    "for i, metrics in enumerate(metrics_list):\n",
    "    print(f\"Metrics for model {i+1}:\")\n",
    "    print(f\"mAP50-95: {metrics.box.map:.4f}\")\n",
    "    print(f\"mAP50: {metrics.box.map50:.4f}\")\n",
    "    print(f\"mAP75: {metrics.box.map75:.4f}\")\n",
    "    print(f\"Class-wise mAPs: {metrics.box.maps}\")"
   ]
  }
 ],
 "metadata": {
  "kernelspec": {
   "display_name": "yolo",
   "language": "python",
   "name": "python3"
  },
  "language_info": {
   "codemirror_mode": {
    "name": "ipython",
    "version": 3
   },
   "file_extension": ".py",
   "mimetype": "text/x-python",
   "name": "python",
   "nbconvert_exporter": "python",
   "pygments_lexer": "ipython3",
   "version": "3.12.3"
  }
 },
 "nbformat": 4,
 "nbformat_minor": 2
}
