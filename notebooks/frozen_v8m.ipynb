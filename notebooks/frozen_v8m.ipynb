{
 "cells": [
  {
   "cell_type": "code",
   "execution_count": null,
   "metadata": {},
   "outputs": [],
   "source": [
    "from ultralytics import YOLO\n",
    "import torch"
   ]
  },
  {
   "cell_type": "code",
   "execution_count": null,
   "metadata": {},
   "outputs": [],
   "source": [
    "# Ensure MPS is available\n",
    "if not torch.backends.mps.is_available():\n",
    "    raise SystemError(\"MPS device not found. Please ensure you have the correct version of PyTorch installed.\")\n",
    "\n",
    "# Load a pre-trained YOLOv8 model\n",
    "model = YOLO('yolov8m.pt')\n",
    "\n",
    "# Freeze backbone layers\n",
    "for param in model.model.backbone.parameters():\n",
    "    param.requires_grad = False\n",
    "\n",
    "# Ensure the model is using MPS\n",
    "model.model.to('mps')\n",
    "\n",
    "# Train the model with MPS, verbose logging, checkpoint saving, and custom output directory\n",
    "results = model.train(\n",
    "    data='/Users/treyshanks/data_science/Court_Vision/agg_lebron/data.yaml',  # Path to data.yaml file\n",
    "    epochs=15,  # Number of epochs\n",
    "    imgsz=640,  # Image size\n",
    "    device='mps',  # Use MPS for training\n",
    "    project='/Users/treyshanks/data_science/Court_Vision/results',  # Output directory for results\n",
    "    name='lebron_detection',  # Sub-directory name\n",
    "    save_period=1,  # Save checkpoint every 3 epochs\n",
    "    verbose=True,  # Enable verbose logging\n",
    "    patience=10\n",
    ")"
   ]
  }
 ],
 "metadata": {
  "kernelspec": {
   "display_name": "yolo",
   "language": "python",
   "name": "python3"
  },
  "language_info": {
   "name": "python",
   "version": "3.12.3"
  }
 },
 "nbformat": 4,
 "nbformat_minor": 2
}
